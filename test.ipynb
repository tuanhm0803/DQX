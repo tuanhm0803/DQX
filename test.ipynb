{
 "cells": [
  {
   "cell_type": "code",
   "execution_count": 3,
   "id": "d62655f0",
   "metadata": {},
   "outputs": [],
   "source": [
    "import psycopg2\n",
    "from app import database\n",
    "from psycopg2.extensions import connection as PgConnection # For type hinting\n",
    "from psycopg2 import sql # For safe SQL construction"
   ]
  },
  {
   "cell_type": "code",
   "execution_count": null,
   "id": "7ffb53e6",
   "metadata": {},
   "outputs": [
    {
     "name": "stdout",
     "output_type": "stream",
     "text": [
      "d:\\Small_Projects\n",
      "Warning: .env file not found at d:\\Small_Projects\\.env\n"
     ]
    },
    {
     "data": {
      "text/plain": [
       "<generator object get_db at 0x000001D88B3ED560>"
      ]
     },
     "execution_count": 10,
     "metadata": {},
     "output_type": "execute_result"
    }
   ],
   "source": [
    "from dotenv import load_dotenv\n",
    "import os\n",
    "import psycopg2\n",
    "\n",
    "# Determine the project root directory\n",
    "PROJECT_ROOT = os.path.abspath(os.path.join(os.path.dirname(os.getcwd()+'/app'), os.pardir))\n",
    "abc = os.path.dirname(os.getcwd()+'/app'\n",
    "print(abc)\n",
    "print(PROJECT_ROOT)\n",
    "DOTENV_PATH = os.path.join(PROJECT_ROOT, '.env')\n",
    "\n",
    "# Load environment variables from .env file in the project root\n",
    "if os.path.exists(DOTENV_PATH):\n",
    "    load_dotenv(DOTENV_PATH)\n",
    "else:\n",
    "    print(f\"Warning: .env file not found at {DOTENV_PATH}\")\n",
    "\n",
    "# Database connection\n",
    "DATABASE_URL = os.getenv(\"DATABASE_URL\")\n",
    "if not DATABASE_URL:\n",
    "    # Fallback or default if still not found, though this should ideally be caught by the check above\n",
    "    print(\"Error: DATABASE_URL environment variable is not set even after attempting to load .env\")\n",
    "    raise ValueError(\"DATABASE_URL environment variable is not set\")\n",
    "\n",
    "# Dependency to get DB connection\n",
    "def get_db():\n",
    "    conn = None  # Initialize conn to None\n",
    "    try:\n",
    "        conn = psycopg2.connect(DATABASE_URL)\n",
    "        yield conn\n",
    "    finally:\n",
    "        if conn:\n",
    "            conn.close()\n",
    "\n",
    "get_db()"
   ]
  }
 ],
 "metadata": {
  "kernelspec": {
   "display_name": "Python 3",
   "language": "python",
   "name": "python3"
  },
  "language_info": {
   "codemirror_mode": {
    "name": "ipython",
    "version": 3
   },
   "file_extension": ".py",
   "mimetype": "text/x-python",
   "name": "python",
   "nbconvert_exporter": "python",
   "pygments_lexer": "ipython3",
   "version": "3.12.1"
  }
 },
 "nbformat": 4,
 "nbformat_minor": 5
}
